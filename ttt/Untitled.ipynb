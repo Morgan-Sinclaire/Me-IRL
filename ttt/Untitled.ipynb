{
 "cells": [
  {
   "cell_type": "code",
   "execution_count": 1,
   "metadata": {
    "collapsed": true
   },
   "outputs": [],
   "source": [
    "import numpy as np\n",
    "import random"
   ]
  },
  {
   "cell_type": "code",
   "execution_count": 2,
   "metadata": {
    "collapsed": true
   },
   "outputs": [],
   "source": [
    "def row_col_diag(b):\n",
    "    sums = [b[i] for i in range(b.shape[0])]\n",
    "    sums += [b[:,i] for i in range(b.shape[1])]\n",
    "    sums.append(np.diag(b))\n",
    "    sums.append(np.diag(np.flipud(b)))\n",
    "    return sums"
   ]
  },
  {
   "cell_type": "code",
   "execution_count": 22,
   "metadata": {
    "collapsed": true
   },
   "outputs": [],
   "source": [
    "def random_play(b):\n",
    "    return tuple(random.choice(list(zip(*np.where(b == 0)))))\n",
    "\n",
    "def place(rcd_ind, ind):\n",
    "    if rcd_ind in [0, 1, 2]:\n",
    "        return rcd_ind,ind\n",
    "    if rcd_ind in [3, 4, 5]:\n",
    "        return ind,rcd_ind\n",
    "    if rcd_ind == 6:\n",
    "        return ind,ind\n",
    "    if rcd_ind == 7:\n",
    "        return 2-ind,ind\n",
    "\n",
    "def one_lookahead(b):\n",
    "    # assumes player is positive\n",
    "    rcd = row_col_diag(b)\n",
    "    for i in range(len(rcd)):\n",
    "        if (rcd[i] == 1).sum() == 2 and not (rcd[i] == -1).sum():\n",
    "            return place(i, np.where(rcd[i] == 0)[0][0])\n",
    "    for i in range(len(rcd)):\n",
    "        if (rcd[i] == -1).sum() == 2 and not (rcd[i] == 1).sum():\n",
    "            return place(i, np.where(rcd[i] == 0)[0][0])\n",
    "    return random_play(b)"
   ]
  },
  {
   "cell_type": "code",
   "execution_count": 38,
   "metadata": {
    "collapsed": true
   },
   "outputs": [],
   "source": [
    "b = np.array([[-1, -1, 0],\n",
    "             [-1, -1, 0],\n",
    "             [1, 1, 0]])"
   ]
  },
  {
   "cell_type": "code",
   "execution_count": 39,
   "metadata": {
    "collapsed": false
   },
   "outputs": [
    {
     "data": {
      "text/plain": [
       "(2, 2)"
      ]
     },
     "execution_count": 39,
     "metadata": {},
     "output_type": "execute_result"
    }
   ],
   "source": [
    "one_lookahead(b)"
   ]
  },
  {
   "cell_type": "code",
   "execution_count": 34,
   "metadata": {
    "collapsed": false
   },
   "outputs": [
    {
     "data": {
      "text/plain": [
       "(2, 2)"
      ]
     },
     "execution_count": 34,
     "metadata": {},
     "output_type": "execute_result"
    }
   ],
   "source": [
    "random_play(b)"
   ]
  },
  {
   "cell_type": "code",
   "execution_count": 35,
   "metadata": {
    "collapsed": false
   },
   "outputs": [
    {
     "data": {
      "text/plain": [
       "[(2, 2)]"
      ]
     },
     "execution_count": 35,
     "metadata": {},
     "output_type": "execute_result"
    }
   ],
   "source": [
    "list(zip(*np.where(b == 0)))"
   ]
  },
  {
   "cell_type": "code",
   "execution_count": 13,
   "metadata": {
    "collapsed": true
   },
   "outputs": [],
   "source": [
    "x = np.array([0, 1, 1, 1, 2, 2, 2])\n",
    "y = np.array([2, 0, 1, 2, 0, 1, 2])"
   ]
  },
  {
   "cell_type": "code",
   "execution_count": 16,
   "metadata": {
    "collapsed": false
   },
   "outputs": [
    {
     "data": {
      "text/plain": [
       "[(0, 2), (1, 0), (1, 1), (1, 2), (2, 0), (2, 1), (2, 2)]"
      ]
     },
     "execution_count": 16,
     "metadata": {},
     "output_type": "execute_result"
    }
   ],
   "source": [
    "list(zip(*(x,y)))"
   ]
  },
  {
   "cell_type": "code",
   "execution_count": null,
   "metadata": {
    "collapsed": true
   },
   "outputs": [],
   "source": []
  }
 ],
 "metadata": {
  "kernelspec": {
   "display_name": "Python 3",
   "language": "python",
   "name": "python3"
  },
  "language_info": {
   "codemirror_mode": {
    "name": "ipython",
    "version": 3
   },
   "file_extension": ".py",
   "mimetype": "text/x-python",
   "name": "python",
   "nbconvert_exporter": "python",
   "pygments_lexer": "ipython3",
   "version": "3.6.0"
  }
 },
 "nbformat": 4,
 "nbformat_minor": 2
}
